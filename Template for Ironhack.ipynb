{
 "cells": [
  {
   "cell_type": "code",
   "execution_count": null,
   "metadata": {},
   "outputs": [],
   "source": [
    "#############################################################################################################    \n",
    "#                               TEMPLATE FOR ACTIVITIES AND LABS\n",
    "############################################################################################################\n",
    "\n",
    "#                          hope this helps to improve the workflow\n",
    "#\n",
    "\n",
    "# 1. fork and clone all activities for the day form the Ironhack learning platform already in the morning\n",
    "\n",
    "# 2. put this template in each folder of a activity or a lab and name it the same way as the activity/lab\n",
    "\n",
    "# 3. paste the text of the README.txt in the next cell, so you don't have to look for it\n",
    "\n",
    "# 4. when the activity starts, simply open this notebook and start right away\n",
    "\n",
    "import pandas as pd\n",
    "import numpy as np\n",
    "import matplotlib.pyplot as plt\n",
    "import seaborn as sns\n",
    "\n",
    "%matplotlib inline\n",
    "\n",
    "#importing data using realtive path\n",
    "data = pd.read_csv('files_for_Lab/csv_files/file_name.csv')\n",
    "#data= pd.read_csv('files_for_activities/csv_files/file_name.csv')\n",
    "\n",
    "#importing data when notebook in same folder\n",
    "data = pd.read_csv('file_name.csv')"
   ]
  },
  {
   "cell_type": "code",
   "execution_count": null,
   "metadata": {},
   "outputs": [],
   "source": [
    "# paste here the text  txt file for the activity or the lab - then you don\"t have to look for the readme file ()"
   ]
  }
 ],
 "metadata": {
  "kernelspec": {
   "display_name": "Python 3",
   "language": "python",
   "name": "python3"
  },
  "language_info": {
   "codemirror_mode": {
    "name": "ipython",
    "version": 3
   },
   "file_extension": ".py",
   "mimetype": "text/x-python",
   "name": "python",
   "nbconvert_exporter": "python",
   "pygments_lexer": "ipython3",
   "version": "3.8.5"
  }
 },
 "nbformat": 4,
 "nbformat_minor": 4
}
